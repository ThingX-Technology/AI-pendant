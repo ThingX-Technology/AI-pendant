{
 "cells": [
  {
   "cell_type": "code",
   "execution_count": null,
   "metadata": {},
   "outputs": [],
   "source": [
    "from datasets import load_dataset\n",
    "from setfit import sample_dataset\n",
    "\n",
    "# Load a dataset from the Hugging Face Hub\n",
    "dataset = load_dataset(\"ag_news\")\n",
    "\n",
    "# Create a sample few-shot dataset to train with\n",
    "train_dataset = sample_dataset(dataset[\"train\"], label_column=\"label\", num_samples=16)\n",
    "# Dataset({\n",
    "#     features: ['text', 'label'],\n",
    "#     num_rows: 64\n",
    "# })\n",
    "\n",
    "# Dataset for evaluation\n",
    "eval_dataset = dataset[\"test\"]\n",
    "# Dataset({\n",
    "#     features: ['text', 'label'],\n",
    "#     num_rows: 7600\n",
    "# })"
   ]
  }
 ],
 "metadata": {
  "language_info": {
   "name": "python"
  }
 },
 "nbformat": 4,
 "nbformat_minor": 2
}
