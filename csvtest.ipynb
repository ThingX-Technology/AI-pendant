{
 "cells": [
  {
   "cell_type": "code",
   "execution_count": 1,
   "metadata": {},
   "outputs": [
    {
     "name": "stdout",
     "output_type": "stream",
     "text": [
      "CSV 文件 'output.csv' 创建成功。\n"
     ]
    }
   ],
   "source": [
    "import csv\n",
    "from datetime import datetime, timedelta\n",
    "\n",
    "# 定义要写入的文件名\n",
    "csv_filename = 'output.csv'\n",
    "\n",
    "# 创建一些示例数据\n",
    "start_time = datetime(2024, 7, 1, 20, 0, 0)  # 起始时间\n",
    "data = []\n",
    "\n",
    "for i in range(10):  # 创建10条数据\n",
    "    timestamp = start_time + timedelta(hours=i)  # 每条数据的时间戳间隔1小时\n",
    "    text_content = f\"Example text {i + 1}\"\n",
    "    data.append((timestamp.strftime('%Y-%m-%d %H:%M:%S'), text_content))\n",
    "\n",
    "# 写入 CSV 文件\n",
    "with open(csv_filename, mode='w', newline='', encoding='utf-8') as file:\n",
    "    writer = csv.writer(file)\n",
    "    \n",
    "    # 写入表头\n",
    "    writer.writerow([\"timestamp\", \"text\"])\n",
    "    \n",
    "    # 写入数据\n",
    "    for row in data:\n",
    "        writer.writerow(row)\n",
    "\n",
    "print(f\"CSV 文件 '{csv_filename}' 创建成功。\")"
   ]
  }
 ],
 "metadata": {
  "kernelspec": {
   "display_name": "QW",
   "language": "python",
   "name": "python3"
  },
  "language_info": {
   "codemirror_mode": {
    "name": "ipython",
    "version": 3
   },
   "file_extension": ".py",
   "mimetype": "text/x-python",
   "name": "python",
   "nbconvert_exporter": "python",
   "pygments_lexer": "ipython3",
   "version": "3.10.14"
  }
 },
 "nbformat": 4,
 "nbformat_minor": 2
}
